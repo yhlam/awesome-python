{
 "metadata": {
  "name": "",
  "signature": "sha256:40904a47413730cf8c41a94ddcb5c81b79b0adbc831cabb878c7645a78eabc1c"
 },
 "nbformat": 3,
 "nbformat_minor": 0,
 "worksheets": [
  {
   "cells": [
    {
     "cell_type": "markdown",
     "metadata": {},
     "source": [
      "# Installing the slideshow support\n",
      "\n",
      "**NOTE** The tools here require IPython 1.0, they do *not* work with\n",
      "IPython 0.13.2.\n",
      "\n",
      "You should only need to run this notebook *once*. \n",
      "\n",
      "It will install the slideshow tools in your IPython profile from github.  It's done in steps so you can debug it more easily if things go wrong.\n",
      "\n",
      "Start by getting the location of your current profile:"
     ]
    },
    {
     "cell_type": "code",
     "collapsed": false,
     "input": [
      "profile_dir = get_ipython().profile_dir.location\n",
      "profile_dir"
     ],
     "language": "python",
     "metadata": {},
     "outputs": [
      {
       "metadata": {},
       "output_type": "pyout",
       "prompt_number": 15,
       "text": [
        "u'/home/fperez/.ipython/profile_default'"
       ]
      }
     ],
     "prompt_number": 15
    },
    {
     "cell_type": "markdown",
     "metadata": {},
     "source": [
      "Clone the [Github repo](https://github.com/ipython-contrib/IPython-notebook-extensions) with IPython extensions, including the slideshow support, into the right location:"
     ]
    },
    {
     "cell_type": "code",
     "collapsed": false,
     "input": [
      "import os\n",
      "tgt = os.path.join( profile_dir, 'static', 'custom')\n",
      "!git clone https://github.com/ipython-contrib/IPython-notebook-extensions.git $tgt"
     ],
     "language": "python",
     "metadata": {},
     "outputs": [
      {
       "output_type": "stream",
       "stream": "stdout",
       "text": [
        "Cloning into '/home/fperez/.ipython/profile_default/static/custom'...\r\n"
       ]
      },
      {
       "output_type": "stream",
       "stream": "stdout",
       "text": [
        "remote: Counting objects: 311, done.\u001b[K\r\n",
        "remote: Compressing objects:   0% (1/170)   \u001b[K\r",
        "remote: Compressing objects:   1% (2/170)   \u001b[K\r",
        "remote: Compressing objects:   2% (4/170)   \u001b[K\r",
        "remote: Compressing objects:   3% (6/170)   \u001b[K\r",
        "remote: Compressing objects:   4% (7/170)   \u001b[K\r",
        "remote: Compressing objects:   5% (9/170)   \u001b[K\r",
        "remote: Compressing objects:   6% (11/170)   \u001b[K\r",
        "remote: Compressing objects:   7% (12/170)   \u001b[K\r",
        "remote: Compressing objects:   8% (14/170)   \u001b[K\r",
        "remote: Compressing objects:   9% (16/170)   \u001b[K\r",
        "remote: Compressing objects:  10% (17/170)   \u001b[K\r",
        "remote: Compressing objects:  11% (19/170)   \u001b[K\r",
        "remote: Compressing objects:  12% (21/170)   \u001b[K\r",
        "remote: Compressing objects:  13% (23/170)   \u001b[K\r",
        "remote: Compressing objects:  14% (24/170)   \u001b[K\r",
        "remote: Compressing objects:  15% (26/170)   \u001b[K\r",
        "remote: Compressing objects:  16% (28/170)   \u001b[K\r",
        "remote: Compressing objects:  17% (29/170)   \u001b[K\r",
        "remote: Compressing objects:  18% (31/170)   \u001b[K\r",
        "remote: Compressing objects:  19% (33/170)   \u001b[K\r",
        "remote: Compressing objects:  20% (34/170)   \u001b[K\r",
        "remote: Compressing objects:  21% (36/170)   \u001b[K\r",
        "remote: Compressing objects:  22% (38/170)   \u001b[K\r",
        "remote: Compressing objects:  23% (40/170)   \u001b[K\r",
        "remote: Compressing objects:  24% (41/170)   \u001b[K\r",
        "remote: Compressing objects:  25% (43/170)   \u001b[K\r",
        "remote: Compressing objects:  26% (45/170)   \u001b[K\r",
        "remote: Compressing objects:  27% (46/170)   \u001b[K\r",
        "remote: Compressing objects:  28% (48/170)   \u001b[K\r",
        "remote: Compressing objects:  29% (50/170)   \u001b[K\r",
        "remote: Compressing objects:  30% (51/170)   \u001b[K\r",
        "remote: Compressing objects:  31% (53/170)   \u001b[K\r",
        "remote: Compressing objects:  32% (55/170)   \u001b[K\r",
        "remote: Compressing objects:  33% (57/170)   \u001b[K\r",
        "remote: Compressing objects:  34% (58/170)   \u001b[K\r",
        "remote: Compressing objects:  35% (60/170)   \u001b[K\r",
        "remote: Compressing objects:  36% (62/170)   \u001b[K\r",
        "remote: Compressing objects:  37% (63/170)   \u001b[K\r",
        "remote: Compressing objects:  38% (65/170)   \u001b[K\r",
        "remote: Compressing objects:  39% (67/170)   \u001b[K\r",
        "remote: Compressing objects:  40% (68/170)   \u001b[K\r",
        "remote: Compressing objects:  41% (70/170)   \u001b[K\r",
        "remote: Compressing objects:  42% (72/170)   \u001b[K\r",
        "remote: Compressing objects:  43% (74/170)   \u001b[K\r",
        "remote: Compressing objects:  44% (75/170)   \u001b[K\r",
        "remote: Compressing objects:  45% (77/170)   \u001b[K\r",
        "remote: Compressing objects:  46% (79/170)   \u001b[K\r",
        "remote: Compressing objects:  47% (80/170)   \u001b[K\r",
        "remote: Compressing objects:  48% (82/170)   \u001b[K\r",
        "remote: Compressing objects:  49% (84/170)   \u001b[K\r",
        "remote: Compressing objects:  50% (85/170)   \u001b[K\r",
        "remote: Compressing objects:  51% (87/170)   \u001b[K\r",
        "remote: Compressing objects:  52% (89/170)   \u001b[K\r",
        "remote: Compressing objects:  53% (91/170)   \u001b[K\r",
        "remote: Compressing objects:  54% (92/170)   \u001b[K\r",
        "remote: Compressing objects:  55% (94/170)   \u001b[K\r",
        "remote: Compressing objects:  56% (96/170)   \u001b[K\r",
        "remote: Compressing objects:  57% (97/170)   \u001b[K\r",
        "remote: Compressing objects:  58% (99/170)   \u001b[K\r",
        "remote: Compressing objects:  59% (101/170)   \u001b[K\r",
        "remote: Compressing objects:  60% (102/170)   \u001b[K\r",
        "remote: Compressing objects:  61% (104/170)   \u001b[K\r",
        "remote: Compressing objects:  62% (106/170)   \u001b[K\r",
        "remote: Compressing objects:  63% (108/170)   \u001b[K\r",
        "remote: Compressing objects:  64% (109/170)   \u001b[K\r",
        "remote: Compressing objects:  65% (111/170)   \u001b[K\r",
        "remote: Compressing objects:  66% (113/170)   \u001b[K\r",
        "remote: Compressing objects:  67% (114/170)   \u001b[K\r",
        "remote: Compressing objects:  68% (116/170)   \u001b[K\r",
        "remote: Compressing objects:  69% (118/170)   \u001b[K\r",
        "remote: Compressing objects:  70% (119/170)   \u001b[K\r",
        "remote: Compressing objects:  71% (121/170)   \u001b[K\r",
        "remote: Compressing objects:  72% (123/170)   \u001b[K\r",
        "remote: Compressing objects:  73% (125/170)   \u001b[K\r",
        "remote: Compressing objects:  74% (126/170)   \u001b[K\r",
        "remote: Compressing objects:  75% (128/170)   \u001b[K\r",
        "remote: Compressing objects:  76% (130/170)   \u001b[K\r",
        "remote: Compressing objects:  77% (131/170)   \u001b[K\r",
        "remote: Compressing objects:  78% (133/170)   \u001b[K\r",
        "remote: Compressing objects:  79% (135/170)   \u001b[K\r",
        "remote: Compressing objects:  80% (136/170)   \u001b[K\r",
        "remote: Compressing objects:  81% (138/170)   \u001b[K\r",
        "remote: Compressing objects:  82% (140/170)   \u001b[K\r",
        "remote: Compressing objects:  83% (142/170)   \u001b[K\r",
        "remote: Compressing objects:  84% (143/170)   \u001b[K\r",
        "remote: Compressing objects:  85% (145/170)   \u001b[K\r",
        "remote: Compressing objects:  86% (147/170)   \u001b[K\r",
        "remote: Compressing objects:  87% (148/170)   \u001b[K\r",
        "remote: Compressing objects:  88% (150/170)   \u001b[K\r",
        "remote: Compressing objects:  89% (152/170)   \u001b[K\r",
        "remote: Compressing objects:  90% (153/170)   \u001b[K\r",
        "remote: Compressing objects:  91% (155/170)   \u001b[K\r",
        "remote: Compressing objects:  92% (157/170)   \u001b[K\r",
        "remote: Compressing objects:  93% (159/170)   \u001b[K\r",
        "remote: Compressing objects:  94% (160/170)   \u001b[K\r",
        "remote: Compressing objects:  95% (162/170)   \u001b[K\r",
        "remote: Compressing objects:  96% (164/170)   \u001b[K\r",
        "remote: Compressing objects:  97% (165/170)   \u001b[K\r",
        "remote: Compressing objects:  98% (167/170)   \u001b[K\r",
        "remote: Compressing obj"
       ]
      },
      {
       "output_type": "stream",
       "stream": "stdout",
       "text": [
        "ects:  99% (169/170)   \u001b[K\r",
        "remote: Compressing objects: 100% (170/170)   \u001b[K\r",
        "remote: Compressing objects: 100% (170/170), done.\u001b[K\r\n"
       ]
      },
      {
       "output_type": "stream",
       "stream": "stdout",
       "text": [
        "Receiving objects:   0% (1/311)   \r",
        "Receiving objects:   1% (4/311)   \r",
        "Receiving objects:   2% (7/311)   \r",
        "Receiving objects:   3% (10/311)   \r",
        "Receiving objects:   4% (13/311)   \r",
        "Receiving objects:   5% (16/311)   \r",
        "Receiving objects:   6% (19/311)   \r",
        "Receiving objects:   7% (22/311)   \r",
        "Receiving objects:   8% (25/311)   \r",
        "Receiving objects:   9% (28/311)   \r",
        "Receiving objects:  10% (32/311)   \r",
        "Receiving objects:  11% (35/311)   \r",
        "Receiving objects:  12% (38/311)   \r",
        "Receiving objects:  13% (41/311)   \r"
       ]
      },
      {
       "output_type": "stream",
       "stream": "stdout",
       "text": [
        "Receiving objects:  14% (44/311)   \r",
        "Receiving objects:  15% (47/311)   \r",
        "Receiving objects:  16% (50/311)   \r",
        "Receiving objects:  17% (53/311)   \r",
        "Receiving objects:  18% (56/311)   \r",
        "Receiving objects:  19% (60/311)   \r",
        "Receiving objects:  20% (63/311)   \r",
        "Receiving objects:  21% (66/311)   \r",
        "Receiving objects:  22% (69/311)   \r",
        "Receiving objects:  23% (72/311)   \r",
        "Receiving objects:  24% (75/311)   \r",
        "Receiving objects:  25% (78/311)   \r",
        "Receiving objects:  26% (81/311)   \r",
        "Receiving objects:  27% (84/311)   \r",
        "Receiving objects:  28% (88/311)   \r",
        "Receiving objects:  29% (91/311)   \r",
        "Receiving objects:  30% (94/311)   \r",
        "Receiving objects:  31% (97/311)   \r"
       ]
      },
      {
       "output_type": "stream",
       "stream": "stdout",
       "text": [
        "remote: Total 311 (delta 127), reused 309 (delta 125)\u001b[K\r\n",
        "Receiving objects:  32% (100/311)   \r",
        "Receiving objects:  33% (103/311)   \r",
        "Receiving objects:  34% (106/311)   \r",
        "Receiving objects:  35% (109/311)   \r",
        "Receiving objects:  36% (112/311)   \r",
        "Receiving objects:  37% (116/311)   \r",
        "Receiving objects:  38% (119/311)   \r",
        "Receiving objects:  39% (122/311)   \r",
        "Receiving objects:  40% (125/311)   \r",
        "Receiving objects:  41% (128/311)   \r",
        "Receiving objects:  42% (131/311)   \r",
        "Receiving objects:  43% (134/311)   \r",
        "Receiving objects:  44% (137/311)   \r",
        "Receiving objects:  45% (140/311)   \r",
        "Receiving objects:  46% (144/311)   \r"
       ]
      },
      {
       "output_type": "stream",
       "stream": "stdout",
       "text": [
        "Receiving objects:  47% (147/311)   \r",
        "Receiving objects:  48% (150/311)   \r",
        "Receiving objects:  49% (153/311)   \r",
        "Receiving objects:  50% (156/311)   \r",
        "Receiving objects:  51% (159/311)   \r",
        "Receiving objects:  52% (162/311)   \r",
        "Receiving objects:  53% (165/311)   \r",
        "Receiving objects:  54% (168/311)   \r",
        "Receiving objects:  55% (172/311)   \r",
        "Receiving objects:  56% (175/311)   \r",
        "Receiving objects:  57% (178/311)   \r",
        "Receiving objects:  58% (181/311)   \r",
        "Receiving objects:  59% (184/311)   \r",
        "Receiving objects:  60% (187/311)   \r",
        "Receiving objects:  61% (190/311)   \r",
        "Receiving objects:  62% (193/311)   \r",
        "Receiving objects:  63% (196/311)   \r",
        "Receiving objects:  64% (200/311)   \r",
        "Receiving objects:  65% (203/311)   \r",
        "Receiving objects:  66% (206/311)   \r",
        "Receiving objects:  67% (209/311)   \r",
        "Receiving objects:  68% (212/311)   \r",
        "Receiving objects:  69% (215/311)   \r",
        "Receiving objects:  70% (218/311)   \r",
        "Receiving objects:  71% (221/311)   \r",
        "Receiving objects:  72% (224/311)   \r",
        "Receiving objects:  73% (228/311)   \r",
        "Receiving objects:  74% (231/311)   \r",
        "Receiving objects:  75% (234/311)   \r",
        "Receiving objects:  76% (237/311)   \r",
        "Receiving objects:  77% (240/311)   \r",
        "Receiving objects:  78% (243/311)   \r",
        "Receiving objects:  79% (246/311)   \r",
        "Receiving objects:  80% (249/311)   \r",
        "Receiving objects:  81% (252/311)   \r",
        "Receiving objects:  82% (256/311)   \r",
        "Receiving objects:  83% (259/311)   \r",
        "Receiving objects:  84% (262/311)   \r",
        "Receiving objects:  85% (265/311)   \r",
        "Receiving objects:  86% (268/311)   \r",
        "Receiving objects:  87% (271/311)   \r",
        "Receiving objects:  88% (274/311)   \r",
        "Receiving objects:  89% (277/311)   \r",
        "Receiving objects:  90% (280/311)   \r",
        "Receiving objects:  91% (284/311)   \r",
        "Receiving objects:  92% (287/311)   \r",
        "Receiving objects:  93% (290/311)   \r",
        "Receiving objects:  94% (293/311)   \r",
        "Receiving objects:  95% (296/311)   \r",
        "Receiving objects:  96% (299/311)   \r",
        "Receiving objects:  97% (302/311)   \r",
        "Receiving objects:  98% (305/311)   \r",
        "Receiving objects:  99% (308/311)   \r",
        "Receiving objects: 100% (311/311)   \r",
        "Receiving objects: 100% (311/311), 92.63 KiB, done.\r\n",
        "Resolving deltas:   0% (0/127)   \r",
        "Resolving deltas:  25% (32/127)   \r",
        "Resolving deltas:  30% (39/127)   \r",
        "Resolving deltas:  32% (41/127)   \r",
        "Resolving deltas:  34% (44/127)   \r",
        "Resolving deltas:  41% (53/127)   \r",
        "Resolving deltas:  44% (56/127)   \r",
        "Resolving deltas:  47% (60/127)   \r",
        "Resolving deltas:  48% (61/127)   \r",
        "Resolving deltas:  49% (63/127)   \r",
        "Resolving deltas:  50% (64/127)   \r",
        "Resolving deltas:  51% (65/127)   \r",
        "Resolving deltas:  52% (67/127)   \r",
        "Resolving deltas:  53% (68/127)   \r",
        "Resolving deltas:  54% (69/127)   \r",
        "Resolving deltas:  55% (70/127)   \r",
        "Resolving deltas:  57% (73/127)   \r",
        "Resolving deltas:  59% (75/127)   \r",
        "Resolving deltas:  62% (80/127)   \r",
        "Resolving deltas:  66% (84/127)   \r",
        "Resolving deltas:  71% (91/127)   \r",
        "Resolving deltas:  75% (96/127)   \r",
        "Resolving deltas:  77% (98/127)   \r",
        "Resolving deltas:  81% (103/127)   \r",
        "Resolving deltas:  82% (105/127)   \r",
        "Resolving deltas:  83% (106/127)   \r",
        "Resolving deltas:  85% (108/127)   \r",
        "Resolving deltas:  87% (111/127)   \r",
        "Resolving deltas:  88% (112/127)   \r",
        "Resolving deltas:  89% (114/127)   \r",
        "Resolving deltas:  97% (124/127)   \r",
        "Resolving deltas:  99% (126/127)   \r",
        "Resolving deltas: 100% (127/127)   \r",
        "Resolving deltas: 100% (127/127), done.\r\n"
       ]
      }
     ],
     "prompt_number": 3
    },
    {
     "cell_type": "markdown",
     "metadata": {},
     "source": [
      "Let's `cd` into that directory and check that the contents look right:"
     ]
    },
    {
     "cell_type": "code",
     "collapsed": false,
     "input": [
      "%cd $tgt\n",
      "!ls"
     ],
     "language": "python",
     "metadata": {},
     "outputs": [
      {
       "output_type": "stream",
       "stream": "stdout",
       "text": [
        "/home/fperez/.ipython/profile_default/static/custom\n",
        "autosavetime.js       custom.example.js  nbviewer_theme     slidemode\r\n",
        "autoscroll.js\t      custom.js\t\t no_exec_dunder.js  slideshow.js\r\n",
        "breakpoint.js\t      gist_it.js\t noscroll.js\t    split-combine.js\r\n",
        "clean_start.js\t      history.js\t python\t\t    toggle_all_line_number.js\r\n",
        "codefolding.js\t      hotkeys.js\t README.md\r\n",
        "comment-uncomment.js  init_cell\t\t read-only.js\r\n",
        "css_selector\t      linenumbers.js\t shift-tab.js\r\n"
       ]
      }
     ],
     "prompt_number": 16
    },
    {
     "cell_type": "markdown",
     "metadata": {},
     "source": [
      "Finally, write out a `custom.js` file that has activated the slideshow extension.  This is simply the provided `custom.example.js` file, with two lines commented out. Feel free to add more to activate other extensions, as explained in the `README.md` file:"
     ]
    },
    {
     "cell_type": "code",
     "collapsed": false,
     "input": [
      "%%writefile custom.js\n",
      "// we want strict javascript that fails\n",
      "// on ambiguous syntax\n",
      "\"using strict\";\n",
      "\n",
      "// do not use notebook loaded  event as it is re-triggerd on\n",
      "// revert to checkpoint but this allow extesnsion to be loaded\n",
      "// late enough to work.\n",
      "//\n",
      "\n",
      "$([IPython.events]).on('app_initialized.NotebookApp', function(){\n",
      "\n",
      "\n",
      "    /**  Use path to js file relative to /static/ dir without leading slash, or\n",
      "     *  js extension.\n",
      "     *  Link directly to file is js extension.\n",
      "     *\n",
      "     *  first argument of require is a **list** that can contains several modules if needed.\n",
      "     **/\n",
      "\n",
      "    // require(['custom/noscroll']);\n",
      "    // require(['custom/clean_start'])\n",
      "    // require(['custom/toggle_all_line_number'])\n",
      "    // require(['custom/gist_it']);\n",
      "\n",
      "    /**\n",
      "     *  Link to entrypoint if extesnsion is a folder.\n",
      "     *  to be consistent with commonjs module, the entrypoint is main.js\n",
      "     *  here youcan also trigger a custom function on load that will do extra\n",
      "     *  action with the module if needed\n",
      "     **/\n",
      "     require(['custom/slidemode/main'],function(slidemode){\n",
      "    //     // do stuff\n",
      "     })\n",
      "\n",
      "});\n"
     ],
     "language": "python",
     "metadata": {},
     "outputs": [
      {
       "output_type": "stream",
       "stream": "stdout",
       "text": [
        "Writing custom.js\n"
       ]
      }
     ],
     "prompt_number": 8
    },
    {
     "cell_type": "markdown",
     "metadata": {},
     "source": [
      "That's it! You should now restart your notebook server and reload the pages just to make sure you get fresh CSS.  If everything went well, your toolbar should look like this, with a new button highlighted here in red:\n",
      "\n",
      "![img](img/toolbar-slideshow.png)\n",
      "\n",
      "That new button is the toggle to enter live slideshow mode, which you can use to switch between the normal editing mode (with the whole notebook as one long scrolling document) and the presentation mode.\n",
      "\n",
      "Now that you've read this, look at the accompanying `notebook-slideshow-example` notebook as a starting illustration of how you can write a presentation-oriented notebook."
     ]
    }
   ],
   "metadata": {}
  }
 ]
}