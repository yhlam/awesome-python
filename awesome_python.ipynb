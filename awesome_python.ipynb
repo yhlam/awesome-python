{
 "metadata": {
  "name": "",
  "signature": "sha256:3cb42bdfa86d6416f87b43465c6241371e45ae97022b22e468be897883ae3db5"
 },
 "nbformat": 3,
 "nbformat_minor": 0,
 "worksheets": [
  {
   "cells": [
    {
     "cell_type": "markdown",
     "metadata": {
      "slideshow": {
       "slide_type": "slide"
      }
     },
     "source": [
      "<p class=\"title\" style=\"text-align: center\">What makes Python so awesome?</p>\n",
      "\n",
      "<p class=\"gap05\"><img src=\"img/python_logo.svg\" /></p>"
     ]
    },
    {
     "cell_type": "code",
     "collapsed": false,
     "input": [
      "# import css and load slide show utilities\n",
      "%run talktools\n",
      "\n",
      "# inline matplotlib plot\n",
      "%matplotlib inline"
     ],
     "language": "python",
     "metadata": {
      "slideshow": {
       "slide_type": "skip"
      }
     },
     "outputs": [
      {
       "html": [
        "<style>\n",
        "\n",
        ".rendered_html\n",
        "{\n",
        "  color: #2C5494;\n",
        "  font-family: Ubuntu;\n",
        "  font-size: 140%;\n",
        "  line-height: 1.1;\n",
        "  margin: 0.5em 0;\n",
        "  }\n",
        "\n",
        ".title\n",
        "{\n",
        "  color: #498AF3;\n",
        "  font-size: 250%;\n",
        "  font-weight:bold;\n",
        "  line-height: 1.2;\n",
        "  margin: 10px 50px 10px;\n",
        "  }\n",
        "\n",
        ".subtitle\n",
        "{\n",
        "  color: #386BBC;\n",
        "  font-size: 180%;\n",
        "  font-weight:bold;\n",
        "  line-height: 1.2;\n",
        "  margin: 20px 50px 20px;\n",
        "  }\n",
        "\n",
        ".slide-header, p.slide-header\n",
        "{\n",
        "  color: #498AF3;\n",
        "  font-size: 200%;\n",
        "  font-weight:bold;\n",
        "  margin: 0px 20px 10px;\n",
        "  page-break-before: always;\n",
        "  text-align: center;\n",
        "  }\n",
        "\n",
        ".rendered_html h1\n",
        "{\n",
        "  color: #498AF3;\n",
        "  line-height: 1.2;\n",
        "  margin: 0.15em 0em 0.5em;\n",
        "  page-break-before: always;\n",
        "  text-align: center;\n",
        "  }\n",
        "\n",
        "\n",
        ".rendered_html h2\n",
        "{\n",
        "  color: #386BBC;\n",
        "  line-height: 1.2;\n",
        "  margin: 1.1em 0em 0.5em;\n",
        "  }\n",
        "\n",
        ".rendered_html h3\n",
        "{\n",
        "  font-size: 100%;\n",
        "  line-height: 1.2;\n",
        "  margin: 1.1em 0em 0.5em;\n",
        "  }\n",
        "\n",
        ".rendered_html li\n",
        "{\n",
        "  line-height: 1.8;\n",
        "  }\n",
        "\n",
        ".input_prompt, .CodeMirror-lines, .output_area\n",
        "{\n",
        "  font-size: 130%;\n",
        "  line-height: 1.3em;\n",
        "  }\n",
        "\n",
        ".gap-above\n",
        "{\n",
        "  padding-top: 200px;\n",
        "  }\n",
        "\n",
        ".gap01\n",
        "{\n",
        "  padding-top: 10px;\n",
        "  }\n",
        "\n",
        ".gap05\n",
        "{\n",
        "  padding-top: 50px;\n",
        "  }\n",
        "\n",
        ".gap1\n",
        "{\n",
        "  padding-top: 100px;\n",
        "  }\n",
        "\n",
        ".gap2\n",
        "{\n",
        "  padding-top: 200px;\n",
        "  }\n",
        "\n",
        ".gap3\n",
        "{\n",
        "  padding-top: 300px;\n",
        "  }\n",
        "\n",
        ".emph\n",
        "{\n",
        "  color: #386BBC;\n",
        "  }\n",
        "\n",
        ".warn\n",
        "{\n",
        "  color: red;\n",
        "  }\n",
        "\n",
        ".center\n",
        "{\n",
        "  text-align: center;\n",
        "  }\n",
        "\n",
        ".nb_link\n",
        "{\n",
        "    padding-bottom: 0.5em;\n",
        "}\n",
        "\n",
        "</style>\n"
       ],
       "metadata": {},
       "output_type": "display_data",
       "text": [
        "<IPython.core.display.HTML at 0x7f59364a9250>"
       ]
      }
     ],
     "prompt_number": 1
    },
    {
     "cell_type": "markdown",
     "metadata": {
      "slideshow": {
       "slide_type": "slide"
      }
     },
     "source": [
      "![xkcd_python](img/xkcd_python.png)"
     ]
    },
    {
     "cell_type": "markdown",
     "metadata": {
      "slideshow": {
       "slide_type": "slide"
      }
     },
     "source": [
      "<div class=\"slide-header\">Data Type</div>"
     ]
    },
    {
     "cell_type": "code",
     "collapsed": false,
     "input": [
      "# Boolean\n",
      "True\n",
      "False\n",
      "\n",
      "# Number\n",
      "1, 2, 3        # int\n",
      "1.1, 1.2, 1.3  # float\n",
      "1 + 1j         # complex number\n",
      "\n",
      "# String\n",
      "'hello world', \"hello world\"\n",
      "r'\\d+'\n",
      "\n",
      "# Bytes\n",
      "b'hello world'\n",
      "\n",
      "# None\n",
      "None"
     ],
     "language": "python",
     "metadata": {
      "slideshow": {
       "slide_type": "fragment"
      }
     },
     "outputs": [],
     "prompt_number": 2
    },
    {
     "cell_type": "markdown",
     "metadata": {
      "slideshow": {
       "slide_type": "slide"
      }
     },
     "source": [
      "<div class=\"slide-header\">Data Structure</div>"
     ]
    },
    {
     "cell_type": "code",
     "collapsed": false,
     "input": [
      "[1, 2, 3]         # list\n",
      "\n",
      "('apple', 10)     # tuple\n",
      "\n",
      "{1, 2, 3}         # set\n",
      "\n",
      "{'apple': 10, 'boy': 5, 'car': 3}  # dict"
     ],
     "language": "python",
     "metadata": {
      "slideshow": {
       "slide_type": "fragment"
      }
     },
     "outputs": [
      {
       "metadata": {},
       "output_type": "pyout",
       "prompt_number": 3,
       "text": [
        "{'apple': 10, 'car': 3, 'boy': 5}"
       ]
      }
     ],
     "prompt_number": 3
    },
    {
     "cell_type": "markdown",
     "metadata": {
      "slideshow": {
       "slide_type": "slide"
      }
     },
     "source": [
      "<div class=\"slide-header\">List</div>"
     ]
    },
    {
     "cell_type": "code",
     "collapsed": false,
     "input": [
      "numbers = [0, 1, 2, 3, 4]"
     ],
     "language": "python",
     "metadata": {
      "slideshow": {
       "slide_type": "fragment"
      }
     },
     "outputs": [],
     "prompt_number": 4
    },
    {
     "cell_type": "code",
     "collapsed": false,
     "input": [
      "numbers[1]"
     ],
     "language": "python",
     "metadata": {
      "slideshow": {
       "slide_type": "fragment"
      }
     },
     "outputs": [
      {
       "metadata": {},
       "output_type": "pyout",
       "prompt_number": 5,
       "text": [
        "1"
       ]
      }
     ],
     "prompt_number": 5
    },
    {
     "cell_type": "code",
     "collapsed": false,
     "input": [
      "numbers[1:3]"
     ],
     "language": "python",
     "metadata": {
      "slideshow": {
       "slide_type": "fragment"
      }
     },
     "outputs": [
      {
       "metadata": {},
       "output_type": "pyout",
       "prompt_number": 6,
       "text": [
        "[1, 2]"
       ]
      }
     ],
     "prompt_number": 6
    },
    {
     "cell_type": "code",
     "collapsed": false,
     "input": [
      "numbers[:2]"
     ],
     "language": "python",
     "metadata": {
      "slideshow": {
       "slide_type": "fragment"
      }
     },
     "outputs": [
      {
       "metadata": {},
       "output_type": "pyout",
       "prompt_number": 7,
       "text": [
        "[0, 1]"
       ]
      }
     ],
     "prompt_number": 7
    },
    {
     "cell_type": "code",
     "collapsed": false,
     "input": [
      "numbers[2:]"
     ],
     "language": "python",
     "metadata": {
      "slideshow": {
       "slide_type": "fragment"
      }
     },
     "outputs": [
      {
       "metadata": {},
       "output_type": "pyout",
       "prompt_number": 8,
       "text": [
        "[2, 3, 4]"
       ]
      }
     ],
     "prompt_number": 8
    },
    {
     "cell_type": "code",
     "collapsed": false,
     "input": [
      "numbers[::2]"
     ],
     "language": "python",
     "metadata": {
      "slideshow": {
       "slide_type": "fragment"
      }
     },
     "outputs": [
      {
       "metadata": {},
       "output_type": "pyout",
       "prompt_number": 9,
       "text": [
        "[0, 2, 4]"
       ]
      }
     ],
     "prompt_number": 9
    },
    {
     "cell_type": "code",
     "collapsed": false,
     "input": [
      "numbers[-1]"
     ],
     "language": "python",
     "metadata": {
      "slideshow": {
       "slide_type": "fragment"
      }
     },
     "outputs": [
      {
       "metadata": {},
       "output_type": "pyout",
       "prompt_number": 10,
       "text": [
        "4"
       ]
      }
     ],
     "prompt_number": 10
    },
    {
     "cell_type": "code",
     "collapsed": false,
     "input": [
      "numbers[::-1]"
     ],
     "language": "python",
     "metadata": {
      "slideshow": {
       "slide_type": "fragment"
      }
     },
     "outputs": [
      {
       "metadata": {},
       "output_type": "pyout",
       "prompt_number": 11,
       "text": [
        "[4, 3, 2, 1, 0]"
       ]
      }
     ],
     "prompt_number": 11
    },
    {
     "cell_type": "code",
     "collapsed": false,
     "input": [
      "numbers.append(5)\n",
      "numbers"
     ],
     "language": "python",
     "metadata": {
      "slideshow": {
       "slide_type": "fragment"
      }
     },
     "outputs": [
      {
       "metadata": {},
       "output_type": "pyout",
       "prompt_number": 12,
       "text": [
        "[0, 1, 2, 3, 4, 5]"
       ]
      }
     ],
     "prompt_number": 12
    },
    {
     "cell_type": "markdown",
     "metadata": {
      "slideshow": {
       "slide_type": "slide"
      }
     },
     "source": [
      "<div class=\"slide-header\">Dict</div>"
     ]
    },
    {
     "cell_type": "code",
     "collapsed": false,
     "input": [
      "strlen = {'apple': 5, 'boy': 3, 'car': 3}"
     ],
     "language": "python",
     "metadata": {
      "slideshow": {
       "slide_type": "fragment"
      }
     },
     "outputs": [],
     "prompt_number": 13
    },
    {
     "cell_type": "code",
     "collapsed": false,
     "input": [
      "strlen['apple']"
     ],
     "language": "python",
     "metadata": {
      "slideshow": {
       "slide_type": "fragment"
      }
     },
     "outputs": [
      {
       "metadata": {},
       "output_type": "pyout",
       "prompt_number": 14,
       "text": [
        "5"
       ]
      }
     ],
     "prompt_number": 14
    },
    {
     "cell_type": "code",
     "collapsed": false,
     "input": [
      "strlen.get('dog', 'default')"
     ],
     "language": "python",
     "metadata": {
      "slideshow": {
       "slide_type": "fragment"
      }
     },
     "outputs": [
      {
       "metadata": {},
       "output_type": "pyout",
       "prompt_number": 15,
       "text": [
        "'default'"
       ]
      }
     ],
     "prompt_number": 15
    },
    {
     "cell_type": "code",
     "collapsed": false,
     "input": [
      "strlen['dog'] = 3\n",
      "strlen"
     ],
     "language": "python",
     "metadata": {
      "slideshow": {
       "slide_type": "fragment"
      }
     },
     "outputs": [
      {
       "metadata": {},
       "output_type": "pyout",
       "prompt_number": 16,
       "text": [
        "{'apple': 5, 'car': 3, 'boy': 3, 'dog': 3}"
       ]
      }
     ],
     "prompt_number": 16
    },
    {
     "cell_type": "markdown",
     "metadata": {
      "slideshow": {
       "slide_type": "slide"
      }
     },
     "source": [
      "<div class=\"slide-header\">Operators</div>"
     ]
    },
    {
     "cell_type": "code",
     "collapsed": false,
     "input": [
      "1 + 1 - 1 * 1 / 1"
     ],
     "language": "python",
     "metadata": {
      "slideshow": {
       "slide_type": "fragment"
      }
     },
     "outputs": [
      {
       "metadata": {},
       "output_type": "pyout",
       "prompt_number": 17,
       "text": [
        "1.0"
       ]
      }
     ],
     "prompt_number": 17
    },
    {
     "cell_type": "code",
     "collapsed": false,
     "input": [
      "10 // 3"
     ],
     "language": "python",
     "metadata": {
      "slideshow": {
       "slide_type": "fragment"
      }
     },
     "outputs": [
      {
       "metadata": {},
       "output_type": "pyout",
       "prompt_number": 18,
       "text": [
        "3"
       ]
      }
     ],
     "prompt_number": 18
    },
    {
     "cell_type": "code",
     "collapsed": false,
     "input": [
      "10 % 3"
     ],
     "language": "python",
     "metadata": {
      "slideshow": {
       "slide_type": "fragment"
      }
     },
     "outputs": [
      {
       "metadata": {},
       "output_type": "pyout",
       "prompt_number": 19,
       "text": [
        "1"
       ]
      }
     ],
     "prompt_number": 19
    },
    {
     "cell_type": "code",
     "collapsed": false,
     "input": [
      "2 ** 100"
     ],
     "language": "python",
     "metadata": {
      "slideshow": {
       "slide_type": "fragment"
      }
     },
     "outputs": [
      {
       "metadata": {},
       "output_type": "pyout",
       "prompt_number": 20,
       "text": [
        "1267650600228229401496703205376"
       ]
      }
     ],
     "prompt_number": 20
    },
    {
     "cell_type": "code",
     "collapsed": true,
     "input": [
      "(1 + 5j) * (1 - 5j)"
     ],
     "language": "python",
     "metadata": {
      "slideshow": {
       "slide_type": "fragment"
      }
     },
     "outputs": [
      {
       "metadata": {},
       "output_type": "pyout",
       "prompt_number": 21,
       "text": [
        "(26+0j)"
       ]
      }
     ],
     "prompt_number": 21
    },
    {
     "cell_type": "code",
     "collapsed": false,
     "input": [
      "'hello ' + 'world'"
     ],
     "language": "python",
     "metadata": {
      "slideshow": {
       "slide_type": "fragment"
      }
     },
     "outputs": [
      {
       "metadata": {},
       "output_type": "pyout",
       "prompt_number": 22,
       "text": [
        "'hello world'"
       ]
      }
     ],
     "prompt_number": 22
    },
    {
     "cell_type": "code",
     "collapsed": false,
     "input": [
      "'Hello' * 10"
     ],
     "language": "python",
     "metadata": {
      "slideshow": {
       "slide_type": "fragment"
      }
     },
     "outputs": [
      {
       "metadata": {},
       "output_type": "pyout",
       "prompt_number": 23,
       "text": [
        "'HelloHelloHelloHelloHelloHelloHelloHelloHelloHello'"
       ]
      }
     ],
     "prompt_number": 23
    },
    {
     "cell_type": "code",
     "collapsed": false,
     "input": [
      "1 == 1"
     ],
     "language": "python",
     "metadata": {
      "slideshow": {
       "slide_type": "fragment"
      }
     },
     "outputs": [
      {
       "metadata": {},
       "output_type": "pyout",
       "prompt_number": 24,
       "text": [
        "True"
       ]
      }
     ],
     "prompt_number": 24
    },
    {
     "cell_type": "code",
     "collapsed": false,
     "input": [
      "1 != 2"
     ],
     "language": "python",
     "metadata": {
      "slideshow": {
       "slide_type": "fragment"
      }
     },
     "outputs": [
      {
       "metadata": {},
       "output_type": "pyout",
       "prompt_number": 25,
       "text": [
        "True"
       ]
      }
     ],
     "prompt_number": 25
    },
    {
     "cell_type": "code",
     "collapsed": false,
     "input": [
      "1 > 2"
     ],
     "language": "python",
     "metadata": {
      "slideshow": {
       "slide_type": "fragment"
      }
     },
     "outputs": [
      {
       "metadata": {},
       "output_type": "pyout",
       "prompt_number": 26,
       "text": [
        "False"
       ]
      }
     ],
     "prompt_number": 26
    },
    {
     "cell_type": "code",
     "collapsed": false,
     "input": [
      "1 >= 2"
     ],
     "language": "python",
     "metadata": {
      "slideshow": {
       "slide_type": "fragment"
      }
     },
     "outputs": [
      {
       "metadata": {},
       "output_type": "pyout",
       "prompt_number": 27,
       "text": [
        "False"
       ]
      }
     ],
     "prompt_number": 27
    },
    {
     "cell_type": "code",
     "collapsed": false,
     "input": [
      "1 < 2"
     ],
     "language": "python",
     "metadata": {
      "slideshow": {
       "slide_type": "fragment"
      }
     },
     "outputs": [
      {
       "metadata": {},
       "output_type": "pyout",
       "prompt_number": 28,
       "text": [
        "True"
       ]
      }
     ],
     "prompt_number": 28
    },
    {
     "cell_type": "code",
     "collapsed": false,
     "input": [
      "1 <= 2"
     ],
     "language": "python",
     "metadata": {
      "slideshow": {
       "slide_type": "fragment"
      }
     },
     "outputs": [
      {
       "metadata": {},
       "output_type": "pyout",
       "prompt_number": 29,
       "text": [
        "True"
       ]
      }
     ],
     "prompt_number": 29
    },
    {
     "cell_type": "code",
     "collapsed": false,
     "input": [
      "not True"
     ],
     "language": "python",
     "metadata": {
      "slideshow": {
       "slide_type": "fragment"
      }
     },
     "outputs": [
      {
       "metadata": {},
       "output_type": "pyout",
       "prompt_number": 30,
       "text": [
        "False"
       ]
      }
     ],
     "prompt_number": 30
    },
    {
     "cell_type": "code",
     "collapsed": false,
     "input": [
      "True and False"
     ],
     "language": "python",
     "metadata": {
      "slideshow": {
       "slide_type": "fragment"
      }
     },
     "outputs": [
      {
       "metadata": {},
       "output_type": "pyout",
       "prompt_number": 31,
       "text": [
        "False"
       ]
      }
     ],
     "prompt_number": 31
    },
    {
     "cell_type": "code",
     "collapsed": false,
     "input": [
      "True or False"
     ],
     "language": "python",
     "metadata": {
      "slideshow": {
       "slide_type": "fragment"
      }
     },
     "outputs": [
      {
       "metadata": {},
       "output_type": "pyout",
       "prompt_number": 32,
       "text": [
        "True"
       ]
      }
     ],
     "prompt_number": 32
    },
    {
     "cell_type": "markdown",
     "metadata": {
      "slideshow": {
       "slide_type": "slide"
      }
     },
     "source": [
      "<div class=\"slide-header\">Control Flow</div>"
     ]
    },
    {
     "cell_type": "code",
     "collapsed": false,
     "input": [
      "x = 1\n",
      "\n",
      "if x == 1:\n",
      "    print('Hello')"
     ],
     "language": "python",
     "metadata": {
      "slideshow": {
       "slide_type": "fragment"
      }
     },
     "outputs": [
      {
       "output_type": "stream",
       "stream": "stdout",
       "text": [
        "Hello\n"
       ]
      }
     ],
     "prompt_number": 33
    },
    {
     "cell_type": "code",
     "collapsed": false,
     "input": [
      "x = 2\n",
      "\n",
      "if x == 1:\n",
      "    print('1')\n",
      "elif x == 2:\n",
      "    print('2')\n",
      "else:\n",
      "    print('3')"
     ],
     "language": "python",
     "metadata": {
      "slideshow": {
       "slide_type": "fragment"
      }
     },
     "outputs": [
      {
       "output_type": "stream",
       "stream": "stdout",
       "text": [
        "2\n"
       ]
      }
     ],
     "prompt_number": 34
    },
    {
     "cell_type": "markdown",
     "metadata": {
      "slideshow": {
       "slide_type": "slide"
      }
     },
     "source": [
      "<div class=\"slide-header\">Iterator Protocol</div>\n",
      "\n",
      "## Example\n",
      "Print ['apple', 'boy', 'cat', 'dog', 'egg'] as\n",
      "\n",
      "    1. apple\n",
      "    2. boy\n",
      "    3. cat\n",
      "    4. dog\n",
      "    5. egg"
     ]
    },
    {
     "cell_type": "markdown",
     "metadata": {
      "slideshow": {
       "slide_type": "slide"
      }
     },
     "source": [
      "### C / C++\n",
      "\n",
      "\n",
      "    for(int i=0; i<words_len; i++) {\n",
      "        char[] word = words[i];\n",
      "        printf(\"%d. %s\\n\", i + 1, word);\n",
      "    }"
     ]
    },
    {
     "cell_type": "markdown",
     "metadata": {
      "slideshow": {
       "slide_type": "fragment"
      }
     },
     "source": [
      "### Java\n",
      "\n",
      "    int i = 1;\n",
      "    for(String word : words) {\n",
      "        System.out.println((i + 1) + \". \" + word);\n",
      "        i++;\n",
      "    }"
     ]
    },
    {
     "cell_type": "markdown",
     "metadata": {
      "slideshow": {
       "slide_type": "fragment"
      }
     },
     "source": [
      "![That's just wrong](img/thats_just_wrong.jpg)"
     ]
    },
    {
     "cell_type": "markdown",
     "metadata": {
      "slideshow": {
       "slide_type": "slide"
      }
     },
     "source": [
      "### Python"
     ]
    },
    {
     "cell_type": "code",
     "collapsed": false,
     "input": [
      "for i in range(5):\n",
      "    print(i)"
     ],
     "language": "python",
     "metadata": {
      "slideshow": {
       "slide_type": "fragment"
      }
     },
     "outputs": [
      {
       "output_type": "stream",
       "stream": "stdout",
       "text": [
        "0\n",
        "1\n",
        "2\n",
        "3\n",
        "4\n"
       ]
      }
     ],
     "prompt_number": 35
    },
    {
     "cell_type": "code",
     "collapsed": false,
     "input": [
      "words = ['apple', 'boy', 'cat', 'dog', 'egg']"
     ],
     "language": "python",
     "metadata": {
      "slideshow": {
       "slide_type": "fragment"
      }
     },
     "outputs": [],
     "prompt_number": 36
    },
    {
     "cell_type": "code",
     "collapsed": false,
     "input": [
      "for word in words:\n",
      "    print(word)"
     ],
     "language": "python",
     "metadata": {
      "slideshow": {
       "slide_type": "fragment"
      }
     },
     "outputs": [
      {
       "output_type": "stream",
       "stream": "stdout",
       "text": [
        "apple\n",
        "boy\n",
        "cat\n",
        "dog\n",
        "egg\n"
       ]
      }
     ],
     "prompt_number": 37
    },
    {
     "cell_type": "code",
     "collapsed": false,
     "input": [
      "for i, word in enumerate(words, 1):\n",
      "    print(\"{}. {}\".format(i, word))"
     ],
     "language": "python",
     "metadata": {
      "slideshow": {
       "slide_type": "fragment"
      }
     },
     "outputs": [
      {
       "output_type": "stream",
       "stream": "stdout",
       "text": [
        "1. apple\n",
        "2. boy\n",
        "3. cat\n",
        "4. dog\n",
        "5. egg\n"
       ]
      }
     ],
     "prompt_number": 38
    },
    {
     "cell_type": "markdown",
     "metadata": {
      "slideshow": {
       "slide_type": "slide"
      }
     },
     "source": [
      "## Iterables\n",
      "* list, set, dict, collections\n",
      "* string\n",
      "* file, csv reader"
     ]
    },
    {
     "cell_type": "code",
     "collapsed": false,
     "input": [
      "!cat data/words.txt"
     ],
     "language": "python",
     "metadata": {
      "slideshow": {
       "slide_type": "slide"
      }
     },
     "outputs": [
      {
       "output_type": "stream",
       "stream": "stdout",
       "text": [
        "apple\r\n",
        "boy\r\n",
        "cat\r\n",
        "dog\r\n",
        "egg\r\n"
       ]
      }
     ],
     "prompt_number": 39
    },
    {
     "cell_type": "code",
     "collapsed": false,
     "input": [
      "words = open('data/words.txt')\n",
      "\n",
      "for i, word in enumerate(words, 1):\n",
      "    print('{}. {}'.format(i, word.strip()))\n",
      "\n",
      "words.close()"
     ],
     "language": "python",
     "metadata": {
      "slideshow": {
       "slide_type": "fragment"
      }
     },
     "outputs": [
      {
       "output_type": "stream",
       "stream": "stdout",
       "text": [
        "1. apple\n",
        "2. boy\n",
        "3. cat\n",
        "4. dog\n",
        "5. egg\n"
       ]
      }
     ],
     "prompt_number": 40
    },
    {
     "cell_type": "code",
     "collapsed": false,
     "input": [
      "'this has a line break\\n'.strip()"
     ],
     "language": "python",
     "metadata": {
      "slideshow": {
       "slide_type": "fragment"
      }
     },
     "outputs": [
      {
       "metadata": {},
       "output_type": "pyout",
       "prompt_number": 41,
       "text": [
        "'this has a line break'"
       ]
      }
     ],
     "prompt_number": 41
    },
    {
     "cell_type": "markdown",
     "metadata": {
      "slideshow": {
       "slide_type": "slide"
      }
     },
     "source": [
      "## Iterator Consumers\n",
      "* for-loop\n",
      "* sum, min, max\n",
      "* sorted, reverse\n",
      "* map, filter, reduce"
     ]
    },
    {
     "cell_type": "code",
     "collapsed": false,
     "input": [
      "max([1, 2, 3, 4, 5])"
     ],
     "language": "python",
     "metadata": {
      "slideshow": {
       "slide_type": "fragment"
      }
     },
     "outputs": [
      {
       "metadata": {},
       "output_type": "pyout",
       "prompt_number": 42,
       "text": [
        "5"
       ]
      }
     ],
     "prompt_number": 42
    },
    {
     "cell_type": "code",
     "collapsed": false,
     "input": [
      "sum([2, 4, 6, 8, 10])"
     ],
     "language": "python",
     "metadata": {
      "slideshow": {
       "slide_type": "fragment"
      }
     },
     "outputs": [
      {
       "metadata": {},
       "output_type": "pyout",
       "prompt_number": 43,
       "text": [
        "30"
       ]
      }
     ],
     "prompt_number": 43
    },
    {
     "cell_type": "code",
     "collapsed": false,
     "input": [
      "sorted([3, 2, 7, 4, 6])"
     ],
     "language": "python",
     "metadata": {
      "slideshow": {
       "slide_type": "fragment"
      }
     },
     "outputs": [
      {
       "metadata": {},
       "output_type": "pyout",
       "prompt_number": 44,
       "text": [
        "[2, 3, 4, 6, 7]"
       ]
      }
     ],
     "prompt_number": 44
    },
    {
     "cell_type": "code",
     "collapsed": false,
     "input": [
      "words = ['apple\\n', 'boy\\n', 'cat\\n', 'dog\\n', 'egg\\n']"
     ],
     "language": "python",
     "metadata": {
      "slideshow": {
       "slide_type": "fragment"
      }
     },
     "outputs": [],
     "prompt_number": 45
    },
    {
     "cell_type": "code",
     "collapsed": false,
     "input": [
      "stripped_words = map(str.strip, words)\n",
      "list(stripped_words)"
     ],
     "language": "python",
     "metadata": {
      "slideshow": {
       "slide_type": "fragment"
      }
     },
     "outputs": [
      {
       "metadata": {},
       "output_type": "pyout",
       "prompt_number": 46,
       "text": [
        "['apple', 'boy', 'cat', 'dog', 'egg']"
       ]
      }
     ],
     "prompt_number": 46
    },
    {
     "cell_type": "code",
     "collapsed": false,
     "input": [
      "def has_a(word):\n",
      "    return 'a' in word\n",
      "\n",
      "stripped_a_words = map(str.strip, filter(has_a, words))\n",
      "list(stripped_a_words)"
     ],
     "language": "python",
     "metadata": {
      "slideshow": {
       "slide_type": "fragment"
      }
     },
     "outputs": [
      {
       "metadata": {},
       "output_type": "pyout",
       "prompt_number": 47,
       "text": [
        "['apple', 'cat']"
       ]
      }
     ],
     "prompt_number": 47
    },
    {
     "cell_type": "code",
     "collapsed": false,
     "input": [
      "stripped_a_words = map(str.strip, filter(lambda w: 'a' in w, words))\n",
      "list(stripped_a_words)"
     ],
     "language": "python",
     "metadata": {
      "slideshow": {
       "slide_type": "fragment"
      }
     },
     "outputs": [
      {
       "metadata": {},
       "output_type": "pyout",
       "prompt_number": 48,
       "text": [
        "['apple', 'cat']"
       ]
      }
     ],
     "prompt_number": 48
    },
    {
     "cell_type": "markdown",
     "metadata": {
      "slideshow": {
       "slide_type": "slide"
      }
     },
     "source": [
      "<div class=\"slide-header\">For Comphension</div>"
     ]
    },
    {
     "cell_type": "markdown",
     "metadata": {
      "slideshow": {
       "slide_type": "fragment"
      }
     },
     "source": [
      "<code><div style=\"text-align: center\"> map(str.strip, filter(lambda w: 'a' in w, words)) </div></code>"
     ]
    },
    {
     "cell_type": "markdown",
     "metadata": {
      "slideshow": {
       "slide_type": "fragment"
      }
     },
     "source": [
      "![What the hell is this](img/what_the_hell_is_this.jpg)"
     ]
    },
    {
     "cell_type": "code",
     "collapsed": false,
     "input": [
      "words = ['apple\\n', 'boy\\n', 'cat\\n', 'dog\\n', 'egg\\n']"
     ],
     "language": "python",
     "metadata": {
      "slideshow": {
       "slide_type": "slide"
      }
     },
     "outputs": [],
     "prompt_number": 49
    },
    {
     "cell_type": "code",
     "collapsed": false,
     "input": [
      "[w.strip() for w in words]"
     ],
     "language": "python",
     "metadata": {
      "slideshow": {
       "slide_type": "fragment"
      }
     },
     "outputs": [
      {
       "metadata": {},
       "output_type": "pyout",
       "prompt_number": 50,
       "text": [
        "['apple', 'boy', 'cat', 'dog', 'egg']"
       ]
      }
     ],
     "prompt_number": 50
    },
    {
     "cell_type": "code",
     "collapsed": false,
     "input": [
      "[w.strip() for w in words if 'a' in w]"
     ],
     "language": "python",
     "metadata": {
      "slideshow": {
       "slide_type": "fragment"
      }
     },
     "outputs": [
      {
       "metadata": {},
       "output_type": "pyout",
       "prompt_number": 51,
       "text": [
        "['apple', 'cat']"
       ]
      }
     ],
     "prompt_number": 51
    },
    {
     "cell_type": "code",
     "collapsed": false,
     "input": [
      "words_has_a = (w for w in words if 'a' in w)\n",
      "[w.strip() for w in words_has_a]"
     ],
     "language": "python",
     "metadata": {
      "slideshow": {
       "slide_type": "fragment"
      }
     },
     "outputs": [
      {
       "metadata": {},
       "output_type": "pyout",
       "prompt_number": 52,
       "text": [
        "['apple', 'cat']"
       ]
      }
     ],
     "prompt_number": 52
    },
    {
     "cell_type": "code",
     "collapsed": false,
     "input": [
      "{w.strip() for w in words}"
     ],
     "language": "python",
     "metadata": {
      "slideshow": {
       "slide_type": "fragment"
      }
     },
     "outputs": [
      {
       "metadata": {},
       "output_type": "pyout",
       "prompt_number": 53,
       "text": [
        "{'apple', 'boy', 'cat', 'dog', 'egg'}"
       ]
      }
     ],
     "prompt_number": 53
    },
    {
     "cell_type": "code",
     "collapsed": false,
     "input": [
      "{w[0]: w.strip() for w in words}"
     ],
     "language": "python",
     "metadata": {
      "slideshow": {
       "slide_type": "fragment"
      }
     },
     "outputs": [
      {
       "metadata": {},
       "output_type": "pyout",
       "prompt_number": 54,
       "text": [
        "{'d': 'dog', 'e': 'egg', 'b': 'boy', 'c': 'cat', 'a': 'apple'}"
       ]
      }
     ],
     "prompt_number": 54
    },
    {
     "cell_type": "markdown",
     "metadata": {
      "slideshow": {
       "slide_type": "slide"
      }
     },
     "source": [
      "<div class=\"slide-header\">Task</div>"
     ]
    },
    {
     "cell_type": "markdown",
     "metadata": {
      "slideshow": {
       "slide_type": "fragment"
      }
     },
     "source": [
      "Round off the numbers in data/numbers.txt, then count the number of dinstinct intergers."
     ]
    },
    {
     "cell_type": "code",
     "collapsed": false,
     "input": [
      "!head data/numbers.txt"
     ],
     "language": "python",
     "metadata": {
      "slideshow": {
       "slide_type": "fragment"
      }
     },
     "outputs": [
      {
       "output_type": "stream",
       "stream": "stdout",
       "text": [
        "91.95406798520374\r\n",
        "87.48009624714858\r\n",
        "99.50775591380737\r\n",
        "98.67355609510342\r\n",
        "105.70202974438588\r\n",
        "87.75808656704325\r\n",
        "91.69285475944871\r\n",
        "102.9219158173364\r\n",
        "118.26951038511679\r\n",
        "108.47910987867324\r\n"
       ]
      }
     ],
     "prompt_number": 55
    },
    {
     "cell_type": "markdown",
     "metadata": {},
     "source": [
      "## Things that may useful\n",
      "\n",
      "* float(s): str -> float\n",
      "* round(f): round off float\n",
      "* len(l): length of a itertable"
     ]
    },
    {
     "cell_type": "code",
     "collapsed": false,
     "input": [
      "numbers = open('data/numbers.txt')\n",
      "floats = (float(line) for line in numbers)\n",
      "ints = {round(value) for value in floats}\n",
      "size = len(ints)\n",
      "\n",
      "numbers.close()\n",
      "\n",
      "size\n"
     ],
     "language": "python",
     "metadata": {
      "slideshow": {
       "slide_type": "slide"
      }
     },
     "outputs": [
      {
       "metadata": {},
       "output_type": "pyout",
       "prompt_number": 56,
       "text": [
        "70"
       ]
      }
     ],
     "prompt_number": 56
    },
    {
     "cell_type": "markdown",
     "metadata": {
      "slideshow": {
       "slide_type": "slide"
      }
     },
     "source": [
      "<div class=\"slide-header\">Property</div>\n",
      "\n",
      "### Java\n",
      "    public class Cat {\n",
      "        private String name;\n",
      "        \n",
      "        public Cat(String name) {\n",
      "            this.name = name;\n",
      "        }\n",
      "        \n",
      "        publc String getName() {\n",
      "            return name;\n",
      "        }\n",
      "        \n",
      "        publc void setName(String name) {\n",
      "            this.name = name;\n",
      "        }\n",
      "    }"
     ]
    },
    {
     "cell_type": "markdown",
     "metadata": {
      "slideshow": {
       "slide_type": "slide"
      }
     },
     "source": [
      "![That's just wrong](img/thats_just_wrong.jpg)"
     ]
    },
    {
     "cell_type": "code",
     "collapsed": false,
     "input": [
      "class Cat:\n",
      "    def __init__(self, name):\n",
      "        self.name = name"
     ],
     "language": "python",
     "metadata": {
      "slideshow": {
       "slide_type": "slide"
      }
     },
     "outputs": [],
     "prompt_number": 57
    },
    {
     "cell_type": "code",
     "collapsed": false,
     "input": [
      "my_cat = Cat('Rain')\n",
      "my_cat.name"
     ],
     "language": "python",
     "metadata": {
      "slideshow": {
       "slide_type": "fragment"
      }
     },
     "outputs": [
      {
       "metadata": {},
       "output_type": "pyout",
       "prompt_number": 58,
       "text": [
        "'Rain'"
       ]
      }
     ],
     "prompt_number": 58
    },
    {
     "cell_type": "code",
     "collapsed": false,
     "input": [
      "my_cat.name = 'Rainbow'\n",
      "my_cat.name"
     ],
     "language": "python",
     "metadata": {
      "slideshow": {
       "slide_type": "fragment"
      }
     },
     "outputs": [
      {
       "metadata": {},
       "output_type": "pyout",
       "prompt_number": 59,
       "text": [
        "'Rainbow'"
       ]
      }
     ],
     "prompt_number": 59
    },
    {
     "cell_type": "code",
     "collapsed": false,
     "input": [
      "class Cat:\n",
      "    \"\"\"Schr\u00f6dinger's Cat Store, Ltd\"\"\"\n",
      "\n",
      "    def __init__(self, name):\n",
      "        self._name = name\n",
      "    \n",
      "    @property\n",
      "    def name(self):\n",
      "        return self._name\n",
      "    \n",
      "    @name.setter\n",
      "    def name(self, name):\n",
      "        if any(char.isdigit() for char in name):\n",
      "            raise ValueError(name + ' contains number')\n",
      "        self._name = name"
     ],
     "language": "python",
     "metadata": {
      "slideshow": {
       "slide_type": "slide"
      }
     },
     "outputs": [],
     "prompt_number": 60
    },
    {
     "cell_type": "code",
     "collapsed": false,
     "input": [
      "my_cat = Cat('Rain')\n",
      "my_cat.name"
     ],
     "language": "python",
     "metadata": {
      "slideshow": {
       "slide_type": "fragment"
      }
     },
     "outputs": [
      {
       "metadata": {},
       "output_type": "pyout",
       "prompt_number": 61,
       "text": [
        "'Rain'"
       ]
      }
     ],
     "prompt_number": 61
    },
    {
     "cell_type": "code",
     "collapsed": false,
     "input": [
      "my_cat.name = 'Rainbow'\n",
      "my_cat.name"
     ],
     "language": "python",
     "metadata": {
      "slideshow": {
       "slide_type": "fragment"
      }
     },
     "outputs": [
      {
       "metadata": {},
       "output_type": "pyout",
       "prompt_number": 62,
       "text": [
        "'Rainbow'"
       ]
      }
     ],
     "prompt_number": 62
    },
    {
     "cell_type": "code",
     "collapsed": false,
     "input": [
      "my_cat.name = '9upper'"
     ],
     "language": "python",
     "metadata": {
      "slideshow": {
       "slide_type": "fragment"
      }
     },
     "outputs": [
      {
       "ename": "ValueError",
       "evalue": "9upper contains number",
       "output_type": "pyerr",
       "traceback": [
        "\u001b[1;31m---------------------------------------------------------------------------\u001b[0m\n\u001b[1;31mValueError\u001b[0m                                Traceback (most recent call last)",
        "\u001b[1;32m<ipython-input-63-29674cd4f56c>\u001b[0m in \u001b[0;36m<module>\u001b[1;34m()\u001b[0m\n\u001b[1;32m----> 1\u001b[1;33m \u001b[0mmy_cat\u001b[0m\u001b[1;33m.\u001b[0m\u001b[0mname\u001b[0m \u001b[1;33m=\u001b[0m \u001b[1;34m'9upper'\u001b[0m\u001b[1;33m\u001b[0m\u001b[0m\n\u001b[0m",
        "\u001b[1;32m<ipython-input-60-d558a5c0e2eb>\u001b[0m in \u001b[0;36mname\u001b[1;34m(self, name)\u001b[0m\n\u001b[0;32m     12\u001b[0m     \u001b[1;32mdef\u001b[0m \u001b[0mname\u001b[0m\u001b[1;33m(\u001b[0m\u001b[0mself\u001b[0m\u001b[1;33m,\u001b[0m \u001b[0mname\u001b[0m\u001b[1;33m)\u001b[0m\u001b[1;33m:\u001b[0m\u001b[1;33m\u001b[0m\u001b[0m\n\u001b[0;32m     13\u001b[0m         \u001b[1;32mif\u001b[0m \u001b[0many\u001b[0m\u001b[1;33m(\u001b[0m\u001b[0mchar\u001b[0m\u001b[1;33m.\u001b[0m\u001b[0misdigit\u001b[0m\u001b[1;33m(\u001b[0m\u001b[1;33m)\u001b[0m \u001b[1;32mfor\u001b[0m \u001b[0mchar\u001b[0m \u001b[1;32min\u001b[0m \u001b[0mname\u001b[0m\u001b[1;33m)\u001b[0m\u001b[1;33m:\u001b[0m\u001b[1;33m\u001b[0m\u001b[0m\n\u001b[1;32m---> 14\u001b[1;33m             \u001b[1;32mraise\u001b[0m \u001b[0mValueError\u001b[0m\u001b[1;33m(\u001b[0m\u001b[0mname\u001b[0m \u001b[1;33m+\u001b[0m \u001b[1;34m' contains number'\u001b[0m\u001b[1;33m)\u001b[0m\u001b[1;33m\u001b[0m\u001b[0m\n\u001b[0m\u001b[0;32m     15\u001b[0m         \u001b[0mself\u001b[0m\u001b[1;33m.\u001b[0m\u001b[0m_name\u001b[0m \u001b[1;33m=\u001b[0m \u001b[0mname\u001b[0m\u001b[1;33m\u001b[0m\u001b[0m\n",
        "\u001b[1;31mValueError\u001b[0m: 9upper contains number"
       ]
      }
     ],
     "prompt_number": 63
    },
    {
     "cell_type": "markdown",
     "metadata": {
      "slideshow": {
       "slide_type": "slide"
      }
     },
     "source": [
      "<div class=\"slide-header\">Multiple Inheritance</div>"
     ]
    },
    {
     "cell_type": "code",
     "collapsed": false,
     "input": [
      "class Pet:    \n",
      "    def __init__(self, name):\n",
      "        self._name = name\n",
      "    \n",
      "    @property\n",
      "    def name(self):\n",
      "        return self._name\n",
      "    \n",
      "    @name.setter\n",
      "    def name(self, name):\n",
      "        if any(char.isdigit() for char in name):\n",
      "            raise ValueError(name + ' contains number')\n",
      "        self._name = name\n",
      "\n",
      "        \n",
      "class Cat(Pet):\n",
      "    def meows(self):\n",
      "        print('{}: mew-mew'.format(self.name))\n",
      "\n",
      "\n",
      "class Dog(Pet):\n",
      "    def barks(self):\n",
      "        print('{}: bow-wow'.format(self.name))"
     ],
     "language": "python",
     "metadata": {
      "slideshow": {
       "slide_type": "fragment"
      }
     },
     "outputs": []
    },
    {
     "cell_type": "markdown",
     "metadata": {
      "slideshow": {
       "slide_type": "slide"
      }
     },
     "source": [
      "You are selling:\n",
      "\n",
      "* cat\n",
      "* dog\n",
      "* flying cat\n",
      "* flying dog"
     ]
    },
    {
     "cell_type": "markdown",
     "metadata": {
      "slideshow": {
       "slide_type": "slide"
      }
     },
     "source": [
      "How do you refactor the library to add flying cat and flying dog? If you use Java..."
     ]
    },
    {
     "cell_type": "markdown",
     "metadata": {
      "slideshow": {
       "slide_type": "fragment"
      }
     },
     "source": [
      "![this shit is hard](img/this_shit_is_hard.jpg)"
     ]
    },
    {
     "cell_type": "code",
     "collapsed": false,
     "input": [
      "class FlyMixin:\n",
      "    def fly(self):\n",
      "        print(self.name + ' is flying')\n",
      "\n",
      "class FlyingCat(FlyMixin, Cat):\n",
      "    pass\n",
      "\n",
      "\n",
      "class FlyingDog(FlyMixin, Dog):\n",
      "    pass\n",
      "\n",
      "\n",
      "FlyingCat('SuperCat').fly()"
     ],
     "language": "python",
     "metadata": {
      "slideshow": {
       "slide_type": "slide"
      }
     },
     "outputs": []
    },
    {
     "cell_type": "markdown",
     "metadata": {
      "slideshow": {
       "slide_type": "slide"
      }
     },
     "source": [
      "<div class=\"slide-header\">Decorator</div>\n",
      "\n",
      "Still remember @property?\n",
      "\n",
      "It is not magic"
     ]
    },
    {
     "cell_type": "code",
     "collapsed": false,
     "input": [
      "def hello_world():\n",
      "    return print('hello world')\n",
      "\n",
      "hello_world()"
     ],
     "language": "python",
     "metadata": {
      "slideshow": {
       "slide_type": "slide"
      }
     },
     "outputs": [
      {
       "output_type": "stream",
       "stream": "stdout",
       "text": [
        "hello world\n"
       ]
      }
     ],
     "prompt_number": 64
    },
    {
     "cell_type": "code",
     "collapsed": false,
     "input": [
      "for _ in range(3):\n",
      "    hello_world()"
     ],
     "language": "python",
     "metadata": {},
     "outputs": [
      {
       "output_type": "stream",
       "stream": "stdout",
       "text": [
        "hello world\n",
        "hello world\n",
        "hello world\n"
       ]
      }
     ],
     "prompt_number": 65
    },
    {
     "cell_type": "code",
     "collapsed": false,
     "input": [
      "def repeat_3_times(func):\n",
      "\n",
      "    def repeated(*args, **kwargs):\n",
      "        for _ in range(3):\n",
      "            func(*args, **kwargs)\n",
      "            \n",
      "    return repeated\n",
      "\n",
      "\n",
      "@repeat_3_times\n",
      "def hello_world():\n",
      "    return print('hello world')\n",
      "\n",
      "hello_world()"
     ],
     "language": "python",
     "metadata": {
      "slideshow": {
       "slide_type": "fragment"
      }
     },
     "outputs": [
      {
       "output_type": "stream",
       "stream": "stdout",
       "text": [
        "hello world\n",
        "hello world\n",
        "hello world\n"
       ]
      }
     ],
     "prompt_number": 66
    },
    {
     "cell_type": "code",
     "collapsed": false,
     "input": [
      "def repeat(n):\n",
      "\n",
      "    def repeat_decorator(func):\n",
      "        \n",
      "        def repeated(*args, **kwargs):\n",
      "            for _ in range(n):\n",
      "                func(*args, **kwargs)\n",
      "                \n",
      "        return repeated\n",
      "    \n",
      "    return repeat_decorator\n",
      "\n",
      "\n",
      "\n",
      "@repeat(5)\n",
      "def hello_world():\n",
      "    return print('hello world')\n",
      "\n",
      "hello_world()"
     ],
     "language": "python",
     "metadata": {
      "slideshow": {
       "slide_type": "slide"
      }
     },
     "outputs": [
      {
       "output_type": "stream",
       "stream": "stdout",
       "text": [
        "hello world\n",
        "hello world\n",
        "hello world\n",
        "hello world\n",
        "hello world\n"
       ]
      }
     ],
     "prompt_number": 67
    },
    {
     "cell_type": "markdown",
     "metadata": {
      "slideshow": {
       "slide_type": "slide"
      }
     },
     "source": [
      "<div class=\"slide-header\">Task</div>\n",
      "\n",
      "Create a decorator that log how long the function takes?\n",
      "\n",
      "    >>> @time_it(10000)\n",
      "    >>> def heavy_computation():\n",
      "    >>>    return 1+1\n",
      "\n",
      "    >>> heavy_computation()\n",
      "    \n",
      "    heavy_computation ran 10000 times, total: 1.556ms, avg: 0.0001556ms\n",
      "\n",
      "\n",
      "\n",
      "Things that maybe useful\n",
      "\n",
      "* time.time()\n",
      "* func.\\_\\_name\\_\\_\n",
      "\n"
     ]
    },
    {
     "cell_type": "code",
     "collapsed": false,
     "input": [
      "import time\n",
      "\n",
      "def time_it(n): \n",
      "\n",
      "    def time_it_n(func):\n",
      "        fname = func.__name__\n",
      "\n",
      "        def timed(*args, **kwargs):\n",
      "            start = time.time()\n",
      "            for _ in range(n):\n",
      "                func(*args, **kwargs)\n",
      "            end = time.time()\n",
      "\n",
      "            total = (end - start)  * 1000\n",
      "            avg = total / n\n",
      "            \n",
      "            print('{} ran {} times, total: {:.4}ms, avg: {:.4}ms'.format(fname, n, total, avg))\n",
      "\n",
      "        return timed    \n",
      "\n",
      "    return time_it_n\n",
      "\n",
      "\n",
      "@time_it(10000)\n",
      "def heavy_computation():\n",
      "    return 1+1\n",
      "\n",
      "heavy_computation()"
     ],
     "language": "python",
     "metadata": {
      "slideshow": {
       "slide_type": "slide"
      }
     },
     "outputs": [
      {
       "output_type": "stream",
       "stream": "stdout",
       "text": [
        "heavy_computation ran 10000 times, total: 2.108ms, avg: 0.0002108ms\n"
       ]
      }
     ],
     "prompt_number": 68
    },
    {
     "cell_type": "markdown",
     "metadata": {
      "slideshow": {
       "slide_type": "slide"
      }
     },
     "source": [
      "<div class=\"slide-header\">Context Manager</div>"
     ]
    },
    {
     "cell_type": "code",
     "collapsed": false,
     "input": [
      "with open('data/words.txt') as f:\n",
      "    for line in f:\n",
      "        print(line.strip())"
     ],
     "language": "python",
     "metadata": {
      "slideshow": {
       "slide_type": "fragment"
      }
     },
     "outputs": [
      {
       "output_type": "stream",
       "stream": "stdout",
       "text": [
        "apple\n",
        "boy\n",
        "cat\n",
        "dog\n",
        "egg\n"
       ]
      }
     ],
     "prompt_number": 69
    },
    {
     "cell_type": "markdown",
     "metadata": {
      "slideshow": {
       "slide_type": "slide"
      }
     },
     "source": [
      "### Java 7\n",
      "    interface Closable {\n",
      "        public void close() throws IOException;\n",
      "    }\n",
      "\n",
      "### Python\n",
      "    class ContextManager:\n",
      "    \n",
      "        def __enter__(self):\n",
      "            ...\n",
      "            return ...\n",
      "\n",
      "        def __exit__(self, type, value, traceback):\n",
      "            ..."
     ]
    },
    {
     "cell_type": "code",
     "collapsed": false,
     "input": [
      "import time\n",
      "\n",
      "class TimeLogger:\n",
      "   \n",
      "    def __enter__(self):\n",
      "        self.start = time.time()\n",
      "        return self\n",
      "\n",
      "    def __exit__(self, type, value, traceback):\n",
      "        timespan = time.time() - self.start\n",
      "        print('Complete in {}ms'.format(timespan * 1000))\n",
      "\n",
      "with TimeLogger():\n",
      "    1 + 1"
     ],
     "language": "python",
     "metadata": {
      "slideshow": {
       "slide_type": "slide"
      }
     },
     "outputs": [
      {
       "output_type": "stream",
       "stream": "stdout",
       "text": [
        "Complete in 0.002384185791015625ms\n"
       ]
      }
     ],
     "prompt_number": 70
    },
    {
     "cell_type": "markdown",
     "metadata": {
      "slideshow": {
       "slide_type": "slide"
      }
     },
     "source": [
      "<div class=\"slide-header\">Generator</div>"
     ]
    },
    {
     "cell_type": "code",
     "collapsed": false,
     "input": [
      "def natural_number():\n",
      "    n = 0\n",
      "    while True:\n",
      "        yield n\n",
      "        n += 1\n",
      "\n",
      "        \n",
      "nums = natural_number()\n",
      "\n",
      "for _ in range(5):\n",
      "    print(next(nums))\n"
     ],
     "language": "python",
     "metadata": {
      "slideshow": {
       "slide_type": "fragment"
      }
     },
     "outputs": [
      {
       "output_type": "stream",
       "stream": "stdout",
       "text": [
        "0\n",
        "1\n",
        "2\n",
        "3\n",
        "4\n"
       ]
      }
     ],
     "prompt_number": 71
    },
    {
     "cell_type": "code",
     "collapsed": false,
     "input": [
      "def group(items, group_size=5, sep='|'):\n",
      "    for i, item in enumerate(items):\n",
      "        if i % group_size == 0:\n",
      "            yield sep\n",
      "            \n",
      "        yield item\n",
      "\n",
      "''.join(group('abcdefghijklmnopqrstuvwxyz'))"
     ],
     "language": "python",
     "metadata": {
      "slideshow": {
       "slide_type": "slide"
      }
     },
     "outputs": [
      {
       "metadata": {},
       "output_type": "pyout",
       "prompt_number": 72,
       "text": [
        "'|abcde|fghij|klmno|pqrst|uvwxy|z'"
       ]
      }
     ],
     "prompt_number": 72
    },
    {
     "cell_type": "code",
     "collapsed": false,
     "input": [
      "def chain(*iterables):\n",
      "    for iterable in iterables:\n",
      "        yield from iterable\n",
      "\n",
      "list(chain([1, 2, 3, 4], [5, 6, 7, 8]))"
     ],
     "language": "python",
     "metadata": {
      "slideshow": {
       "slide_type": "fragment"
      }
     },
     "outputs": [
      {
       "metadata": {},
       "output_type": "pyout",
       "prompt_number": 73,
       "text": [
        "[1, 2, 3, 4, 5, 6, 7, 8]"
       ]
      }
     ],
     "prompt_number": 73
    },
    {
     "cell_type": "markdown",
     "metadata": {
      "slideshow": {
       "slide_type": "slide"
      }
     },
     "source": [
      "<div class=\"slide-header\">Task</div>\n",
      "\n",
      "Count number of request of each IP in all the log files under data/www folder\n",
      "\n",
      "List the 10 most frequent IP and their count"
     ]
    },
    {
     "cell_type": "code",
     "collapsed": false,
     "input": [
      "ls -R data/www"
     ],
     "language": "python",
     "metadata": {
      "slideshow": {
       "slide_type": "fragment"
      }
     },
     "outputs": [
      {
       "output_type": "stream",
       "stream": "stdout",
       "text": [
        "data/www:\r\n",
        "\u001b[0m\u001b[01;34mbar\u001b[0m/  \u001b[01;34mfoo\u001b[0m/\r\n",
        "\r\n",
        "data/www/bar:\r\n",
        "\u001b[01;32maccess-log\u001b[0m*  \u001b[01;32maccess-log-0108.bz2\u001b[0m*  \u001b[01;32maccess-log-0208.bz2\u001b[0m*\r\n",
        "\r\n",
        "data/www/foo:\r\n",
        "\u001b[01;32maccess-log\u001b[0m*  \u001b[01;32maccess-log-0108.gz\u001b[0m*  \u001b[01;32maccess-log-0208.gz\u001b[0m*\r\n"
       ]
      }
     ],
     "prompt_number": 74
    },
    {
     "cell_type": "code",
     "collapsed": true,
     "input": [
      "!head data/www/bar/access-log"
     ],
     "language": "python",
     "metadata": {
      "slideshow": {
       "slide_type": "fragment"
      }
     },
     "outputs": [
      {
       "output_type": "stream",
       "stream": "stdout",
       "text": [
        "140.180.132.213 - - [24/Feb/2008:00:08:59 -0600] \"GET /ply/ply.html HTTP/1.1\" 200 97238\r\n",
        "140.180.132.213 - - [24/Feb/2008:00:08:59 -0600] \"GET /favicon.ico HTTP/1.1\" 404 133\r\n",
        "75.54.118.139 - - [24/Feb/2008:00:15:40 -0600] \"GET / HTTP/1.1\" 200 4447\r\n",
        "75.54.118.139 - - [24/Feb/2008:00:15:41 -0600] \"GET /images/Davetubes.jpg HTTP/1.1\" 200 60025\r\n",
        "75.54.118.139 - - [24/Feb/2008:00:15:42 -0600] \"GET /favicon.ico HTTP/1.1\" 404 133\r\n",
        "75.54.118.139 - - [24/Feb/2008:00:15:49 -0600] \"GET /software.html HTTP/1.1\" 200 3163\r\n",
        "75.54.118.139 - - [24/Feb/2008:00:16:10 -0600] \"GET /ply/index.html HTTP/1.1\" 200 8018\r\n",
        "75.54.118.139 - - [24/Feb/2008:00:16:11 -0600] \"GET /ply/bookplug.gif HTTP/1.1\" 200 23903\r\n",
        "213.145.165.82 - - [24/Feb/2008:00:16:19 -0600] \"GET /ply/ HTTP/1.1\" 200 8018\r\n",
        "128.143.38.83 - - [24/Feb/2008:00:31:39 -0600] \"GET /favicon.ico HTTP/1.1\" 404 133\r\n"
       ]
      }
     ],
     "prompt_number": 75
    },
    {
     "cell_type": "markdown",
     "metadata": {
      "slideshow": {
       "slide_type": "fragment"
      }
     },
     "source": [
      "## Things that maybe useful\n",
      "\n",
      "* os.path\n",
      "* gzip\n",
      "* bz2\n",
      "* collections.Counter"
     ]
    },
    {
     "cell_type": "code",
     "collapsed": false,
     "input": [
      "import os\n",
      "import gzip\n",
      "import bz2\n",
      "from collections import Counter\n",
      "\n",
      "\n",
      "def gen_find(root):\n",
      "    for path, dirlist, filelist in os.walk(root):\n",
      "        for name in filelist:\n",
      "            yield os.path.join(path, name)\n",
      "            \n",
      "def gen_string(bytes):\n",
      "    for line in bytes:\n",
      "        yield line.decode('ascii')\n",
      "\n",
      "def gen_open(filenames):\n",
      "    for name in filenames:\n",
      "        if name.endswith(\".gz\"):\n",
      "            yield gen_string(gzip.open(name))\n",
      "        elif name.endswith(\".bz2\"):\n",
      "             yield gen_string(bz2.open(name))\n",
      "        else:\n",
      "             yield open(name)\n",
      "                        \n",
      "def gen_cat(sources):\n",
      "    for source in sources:\n",
      "        yield from source\n",
      "            \n",
      "def gen_ip(logfiles):\n",
      "    for line in log:\n",
      "        ip, _ = line.split(' ', 1)\n",
      "        yield ip\n",
      "\n",
      "\n",
      "logpaths = gen_find('data/www')\n",
      "logfiles = gen_open(logpaths)\n",
      "log = gen_cat(logfiles)\n",
      "ips = gen_ip(log)\n",
      "ipcount = Counter(ips)\n",
      "first_ten = ipcount.most_common(10)\n",
      "first_ten"
     ],
     "language": "python",
     "metadata": {
      "slideshow": {
       "slide_type": "slide"
      }
     },
     "outputs": [
      {
       "metadata": {},
       "output_type": "pyout",
       "prompt_number": 76,
       "text": [
        "[('38.98.120.84', 3354),\n",
        " ('129.192.97.6', 774),\n",
        " ('66.249.65.37', 390),\n",
        " ('201.236.226.90', 366),\n",
        " ('67.228.115.170', 294),\n",
        " ('24.10.16.193', 282),\n",
        " ('128.135.11.245', 264),\n",
        " ('71.57.91.136', 258),\n",
        " ('67.186.98.20', 246),\n",
        " ('189.70.147.197', 240)]"
       ]
      }
     ],
     "prompt_number": 76
    },
    {
     "cell_type": "code",
     "collapsed": false,
     "input": [
      "import os\n",
      "import gzip\n",
      "import bz2\n",
      "from collections import Counter\n",
      "from functools import wraps\n",
      "\n",
      "\n",
      "def foreach(func):\n",
      "    @wraps(func)\n",
      "    def wrapped(iterable):\n",
      "        for elem in iterable:\n",
      "            yield from func(elem)\n",
      "\n",
      "    return wrapped\n",
      "\n",
      "\n",
      "def gen_find(root):\n",
      "    for path, dirlist, filelist in os.walk(root):\n",
      "        for name in filelist:\n",
      "            yield os.path.join(path, name)\n",
      "\n",
      "@foreach            \n",
      "def gen_string(line):\n",
      "    yield line.decode('ascii')\n",
      "\n",
      "\n",
      "@foreach\n",
      "def gen_open(filename):\n",
      "    if filename.endswith(\".gz\"):\n",
      "        yield gen_string(gzip.open(filename))\n",
      "    elif filename.endswith(\".bz2\"):\n",
      "         yield gen_string(bz2.open(filename))\n",
      "    else:\n",
      "         yield open(filename)\n",
      "\n",
      "\n",
      "@foreach\n",
      "def gen_cat(source):\n",
      "    yield from source\n",
      "\n",
      "\n",
      "@foreach\n",
      "def gen_ip(line):\n",
      "    ip, _ = line.split(' ', 1)\n",
      "    yield ip\n",
      "\n",
      "\n",
      "logpaths = gen_find('data/www')\n",
      "logfiles = gen_open(logpaths)\n",
      "log = gen_cat(logfiles)\n",
      "ips = gen_ip(log)\n",
      "ipcount = Counter(ips)\n",
      "first_ten = ipcount.most_common(10)\n",
      "first_ten"
     ],
     "language": "python",
     "metadata": {},
     "outputs": [
      {
       "metadata": {},
       "output_type": "pyout",
       "prompt_number": 77,
       "text": [
        "[('38.98.120.84', 3354),\n",
        " ('129.192.97.6', 774),\n",
        " ('66.249.65.37', 390),\n",
        " ('201.236.226.90', 366),\n",
        " ('67.228.115.170', 294),\n",
        " ('24.10.16.193', 282),\n",
        " ('128.135.11.245', 264),\n",
        " ('71.57.91.136', 258),\n",
        " ('67.186.98.20', 246),\n",
        " ('189.70.147.197', 240)]"
       ]
      }
     ],
     "prompt_number": 77
    },
    {
     "cell_type": "code",
     "collapsed": false,
     "input": [
      "import numpy as np\n",
      "import matplotlib.pyplot as plt\n",
      "\n",
      "ip, freq = zip(*first_ten)\n",
      "\n",
      "plt.xkcd()\n",
      "fig, ax = plt.subplots()\n",
      "\n",
      "pos = np.arange(9, -1, -1) + .5\n",
      "ax.barh(pos, freq, align='center', height=0.5)\n",
      "plt.yticks(pos, ip)\n",
      "\n",
      "ax.set_xlabel('Frequency')\n",
      "ax.set_ylabel('IP')\n",
      "ax.set_title('Top 10 IP')\n",
      "ax.grid(True)\n",
      "plt.show()"
     ],
     "language": "python",
     "metadata": {
      "slideshow": {
       "slide_type": "fragment"
      }
     },
     "outputs": [
      {
       "metadata": {},
       "output_type": "display_data",
       "png": "[encoded data removed]",
       "text": [
        "<matplotlib.figure.Figure at 0x7f591cb58710>"
       ]
      }
     ],
     "prompt_number": 78
    },
    {
     "cell_type": "markdown",
     "metadata": {
      "slideshow": {
       "slide_type": "slide"
      }
     },
     "source": [
      "<div class=\"slide-header\">Co-routine / Reverse Generator</div>"
     ]
    },
    {
     "cell_type": "code",
     "collapsed": false,
     "input": [
      "def print_if_divided_by(n):\n",
      "    while True:\n",
      "        value = yield\n",
      "        if value % n == 0:\n",
      "            print(value)\n",
      "\n",
      "even_printer = print_if_divided_by(2)\n",
      "next(even_printer)\n",
      "\n",
      "for num in range(10):\n",
      "    even_printer.send(num)"
     ],
     "language": "python",
     "metadata": {
      "slideshow": {
       "slide_type": "fragment"
      }
     },
     "outputs": [
      {
       "output_type": "stream",
       "stream": "stdout",
       "text": [
        "0\n",
        "2\n",
        "4\n",
        "6\n",
        "8\n"
       ]
      }
     ],
     "prompt_number": 79
    },
    {
     "cell_type": "code",
     "collapsed": false,
     "input": [
      "def consumer(gen_func):\n",
      "    def consumer_func(*args, **kwargs):\n",
      "        generator = gen_func(*args, **kwargs)\n",
      "        next(generator)\n",
      "        return generator\n",
      "    return consumer_func\n",
      "\n",
      "@consumer\n",
      "def print_sum():\n",
      "    sum = 0\n",
      "    while True:\n",
      "        value = yield\n",
      "        sum += value\n",
      "        print('Current sum:', sum)\n",
      "\n",
      "@consumer\n",
      "def print_product():\n",
      "    product = 1\n",
      "    while True:\n",
      "        value = yield\n",
      "        product *= value\n",
      "        print('Current product:', product)\n",
      "\n",
      "@consumer\n",
      "def boardcast(*consumers):\n",
      "    while True:\n",
      "        value = yield\n",
      "        for consumer in consumers:\n",
      "            consumer.send(value)\n",
      "\n",
      "receiver = boardcast(print_sum(), print_product())\n",
      "for num in range(1, 6):\n",
      "    receiver.send(num)"
     ],
     "language": "python",
     "metadata": {
      "slideshow": {
       "slide_type": "slide"
      }
     },
     "outputs": [
      {
       "output_type": "stream",
       "stream": "stdout",
       "text": [
        "Current sum: 1\n",
        "Current product: 1\n",
        "Current sum: 3\n",
        "Current product: 2\n",
        "Current sum: 6\n",
        "Current product: 6\n",
        "Current sum: 10\n",
        "Current product: 24\n",
        "Current sum: 15\n",
        "Current product: 120\n"
       ]
      }
     ],
     "prompt_number": 80
    },
    {
     "cell_type": "code",
     "collapsed": false,
     "input": [
      "from contextlib import contextmanager\n",
      "\n",
      "@contextmanager\n",
      "def tag(name):\n",
      "    print('<{}>'.format(name))\n",
      "    yield\n",
      "    print('</{}>'.format(name))\n",
      "\n",
      "with tag('p'):\n",
      "    print('text')"
     ],
     "language": "python",
     "metadata": {
      "slideshow": {
       "slide_type": "slide"
      }
     },
     "outputs": [
      {
       "output_type": "stream",
       "stream": "stdout",
       "text": [
        "<p>\n",
        "text\n",
        "</p>\n"
       ]
      }
     ],
     "prompt_number": 81
    },
    {
     "cell_type": "markdown",
     "metadata": {
      "slideshow": {
       "slide_type": "slide"
      }
     },
     "source": [
      "<div class=\"slide-header\">Co-routine / Two-way Generator</div>"
     ]
    },
    {
     "cell_type": "markdown",
     "metadata": {
      "slideshow": {
       "slide_type": "fragment"
      }
     },
     "source": [
      "## Javascript Callback hell\n",
      "    exports.processJob = function(options, next) {\n",
      "      db.getUser(options.userId, function(err, user) {\n",
      "        if (err) return next(err);        \n",
      "        db.updateAccount(user.accountId, options.total, function(err) {\n",
      "          if (err) return next(err);          \n",
      "          http.post(options.url, function(err) {\n",
      "            if (err) return next(err);            \n",
      "            next();\n",
      "          });\n",
      "        }); \n",
      "      });\n",
      "    };"
     ]
    },
    {
     "cell_type": "markdown",
     "metadata": {
      "slideshow": {
       "slide_type": "slide"
      }
     },
     "source": [
      "![why you make no sense](img/why_you_make_no_sense.jpg)"
     ]
    },
    {
     "cell_type": "code",
     "collapsed": false,
     "input": [
      "def process_job(options, next):\n",
      "    try:\n",
      "        user = yield from db.get_user(options.user_id)\n",
      "        yield from db.update_account(user.account_id, options.total)\n",
      "        yield from http.post(optional.url)\n",
      "        next()\n",
      "    except Exception as e:\n",
      "        next(error)"
     ],
     "language": "python",
     "metadata": {
      "slideshow": {
       "slide_type": "slide"
      }
     },
     "outputs": [],
     "prompt_number": 82
    },
    {
     "cell_type": "code",
     "collapsed": false,
     "input": [
      "import asyncio\n",
      "from datetime import datetime\n",
      "\n",
      "\n",
      "def tick(loop):\n",
      "    print('{:%H:%M:%S.%f}    tick'.format(datetime.now()))\n",
      "    loop.call_later(0.5, tick, loop)\n",
      "\n",
      "\n",
      "@asyncio.coroutine\n",
      "def sleep(t, log):    \n",
      "    print('{:%H:%M:%S.%f}    {} go to sleep'.format(datetime.now(), log))\n",
      "    \n",
      "    yield from asyncio.sleep(t)\n",
      "    \n",
      "    print('{:%H:%M:%S.%f}    {} woke up'.format(datetime.now(), log))\n",
      "    \n",
      "    return\n",
      "\n",
      "\n",
      "@asyncio.coroutine\n",
      "def get_user(user_id):\n",
      "    yield from sleep(1, 'get_user')\n",
      "    return 'kenny2tam'\n",
      "\n",
      "\n",
      "@asyncio.coroutine\n",
      "def update_account(account_id, total):\n",
      "    yield from sleep(2, 'update_account')\n",
      "    print('{:%H:%M:%S.%f}    Account of {} is updated to {}'.format(datetime.now(), account_id, total))\n",
      "\n",
      "\n",
      "@asyncio.coroutine\n",
      "def post(url):\n",
      "    yield from sleep(3, 'post')\n",
      "    print('{:%H:%M:%S.%f}    Posted to {}'.format(datetime.now(), url))\n",
      "\n",
      "\n",
      "@asyncio.coroutine\n",
      "def process_job(options):\n",
      "    user = yield from get_user(options['user_id'])\n",
      "    yield from update_account(user, options['total'])\n",
      "    yield from post(options['url'])\n",
      "\n",
      "\n",
      "loop = asyncio.new_event_loop()\n",
      "asyncio.set_event_loop(loop)\n",
      "loop.call_soon(tick, loop)\n",
      "loop.run_until_complete(process_job({'user_id': 1, 'total': 10, 'url': 'fb.com/king.of.logic'}))\n",
      "loop.close()"
     ],
     "language": "python",
     "metadata": {
      "slideshow": {
       "slide_type": "slide"
      }
     },
     "outputs": [
      {
       "output_type": "stream",
       "stream": "stdout",
       "text": [
        "12:21:04.110419    tick\n",
        "12:21:04.110560    get_user go to sleep\n",
        "12:21:04.611320    tick"
       ]
      },
      {
       "output_type": "stream",
       "stream": "stdout",
       "text": [
        "\n",
        "12:21:05.112149    get_user woke up"
       ]
      },
      {
       "output_type": "stream",
       "stream": "stdout",
       "text": [
        "\n",
        "12:21:05.112713    update_account go to sleep\n",
        "12:21:05.112861    tick\n",
        "12:21:05.613382    tick"
       ]
      },
      {
       "output_type": "stream",
       "stream": "stdout",
       "text": [
        "\n",
        "12:21:06.115081    tick"
       ]
      },
      {
       "output_type": "stream",
       "stream": "stdout",
       "text": [
        "\n",
        "12:21:06.616739    tick"
       ]
      },
      {
       "output_type": "stream",
       "stream": "stdout",
       "text": [
        "\n",
        "12:21:07.114133    update_account woke up"
       ]
      },
      {
       "output_type": "stream",
       "stream": "stdout",
       "text": [
        "\n",
        "12:21:07.115315    Account of kenny2tam is updated to 10\n",
        "12:21:07.115443    post go to sleep\n",
        "12:21:07.117816    tick\n",
        "12:21:07.618746    tick"
       ]
      },
      {
       "output_type": "stream",
       "stream": "stdout",
       "text": [
        "\n",
        "12:21:08.120326    tick"
       ]
      },
      {
       "output_type": "stream",
       "stream": "stdout",
       "text": [
        "\n",
        "12:21:08.621718    tick"
       ]
      },
      {
       "output_type": "stream",
       "stream": "stdout",
       "text": [
        "\n",
        "12:21:09.123500    tick"
       ]
      },
      {
       "output_type": "stream",
       "stream": "stdout",
       "text": [
        "\n",
        "12:21:09.624705    tick"
       ]
      },
      {
       "output_type": "stream",
       "stream": "stdout",
       "text": [
        "\n",
        "12:21:10.117108    post woke up"
       ]
      },
      {
       "output_type": "stream",
       "stream": "stdout",
       "text": [
        "\n",
        "12:21:10.118007    Posted to fb.com/king.of.logic\n"
       ]
      }
     ],
     "prompt_number": 83
    },
    {
     "cell_type": "code",
     "collapsed": false,
     "input": [
      "import this"
     ],
     "language": "python",
     "metadata": {
      "slideshow": {
       "slide_type": "slide"
      }
     },
     "outputs": [
      {
       "output_type": "stream",
       "stream": "stdout",
       "text": [
        "The Zen of Python, by Tim Peters\n",
        "\n",
        "Beautiful is better than ugly.\n",
        "Explicit is better than implicit.\n",
        "Simple is better than complex.\n",
        "Complex is better than complicated.\n",
        "Flat is better than nested.\n",
        "Sparse is better than dense.\n",
        "Readability counts.\n",
        "Special cases aren't special enough to break the rules.\n",
        "Although practicality beats purity.\n",
        "Errors should never pass silently.\n",
        "Unless explicitly silenced.\n",
        "In the face of ambiguity, refuse the temptation to guess.\n",
        "There should be one-- and preferably only one --obvious way to do it.\n",
        "Although that way may not be obvious at first unless you're Dutch.\n",
        "Now is better than never.\n",
        "Although never is often better than *right* now.\n",
        "If the implementation is hard to explain, it's a bad idea.\n",
        "If the implementation is easy to explain, it may be a good idea.\n",
        "Namespaces are one honking great idea -- let's do more of those!\n"
       ]
      }
     ],
     "prompt_number": 84
    },
    {
     "cell_type": "markdown",
     "metadata": {
      "slideshow": {
       "slide_type": "slide"
      }
     },
     "source": [
      "<div class=\"slide-header\">Summary</div>\n",
      "\n",
      "* Iterator Protocol\n",
      "* For Comphension\n",
      "* Property\n",
      "* Multiple Inheritance\n",
      "* Decorator\n",
      "* Context Manager\n",
      "* Generator\n",
      "* Reverse Generator\n",
      "* Two-way Generator"
     ]
    }
   ],
   "metadata": {}
  }
 ]
}